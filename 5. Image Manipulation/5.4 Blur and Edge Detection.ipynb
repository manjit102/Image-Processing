{
 "cells": [
  {
   "cell_type": "markdown",
   "id": "7354c227",
   "metadata": {},
   "source": [
    "# <font color= \"red\">Blur and edge Detection</font>"
   ]
  },
  {
   "cell_type": "markdown",
   "id": "6757d183",
   "metadata": {},
   "source": [
    "## <font color= \"green\">Importing Libraries</font>"
   ]
  },
  {
   "cell_type": "code",
   "execution_count": 1,
   "id": "5539911f",
   "metadata": {},
   "outputs": [],
   "source": [
    "import numpy as np\n",
    "import cv2 as cv\n",
    "import matplotlib.pyplot as plt"
   ]
  },
  {
   "cell_type": "code",
   "execution_count": 7,
   "id": "d21bae7f",
   "metadata": {},
   "outputs": [],
   "source": [
    "cam =cv.VideoCapture(0)\n",
    "\n",
    "while True:\n",
    "    _, img =cam.read()\n",
    "    \n",
    "    img = cv.flip(img, 1)\n",
    "    blr = cv.blur(img, (5,5))\n",
    "    edge = cv.Canny(img, 100,200)\n",
    "    final = cv.blur(edge, (5,5))\n",
    "    \n",
    "    cv.imshow(\"Frame\", img)\n",
    "    cv.imshow(\"Blur\", blr)\n",
    "    cv.imshow(\"Edge\", edge)\n",
    "    cv.imshow(\"Final\", final)\n",
    "    \n",
    "    if cv.waitKey(20) == 13:\n",
    "        cam.release()\n",
    "        break\n",
    "    "
   ]
  },
  {
   "cell_type": "code",
   "execution_count": null,
   "id": "74036768",
   "metadata": {},
   "outputs": [],
   "source": []
  }
 ],
 "metadata": {
  "kernelspec": {
   "display_name": "Python 3 (ipykernel)",
   "language": "python",
   "name": "python3"
  },
  "language_info": {
   "codemirror_mode": {
    "name": "ipython",
    "version": 3
   },
   "file_extension": ".py",
   "mimetype": "text/x-python",
   "name": "python",
   "nbconvert_exporter": "python",
   "pygments_lexer": "ipython3",
   "version": "3.11.4"
  }
 },
 "nbformat": 4,
 "nbformat_minor": 5
}
