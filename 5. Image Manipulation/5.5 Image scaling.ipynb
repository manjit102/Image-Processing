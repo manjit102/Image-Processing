{
 "cells": [
  {
   "cell_type": "markdown",
   "id": "3343c8f4",
   "metadata": {},
   "source": [
    "# <font color = \"red\">Image Scaling</font>"
   ]
  },
  {
   "cell_type": "markdown",
   "id": "fad80b07",
   "metadata": {},
   "source": [
    "## <font color = \"green\">Importing Libraries</font>"
   ]
  },
  {
   "cell_type": "code",
   "execution_count": 3,
   "id": "1b06bf34",
   "metadata": {},
   "outputs": [],
   "source": [
    "import numpy as np\n",
    "import cv2 as cv\n",
    "import matplotlib.pyplot as plt"
   ]
  },
  {
   "cell_type": "markdown",
   "id": "4e5e4987",
   "metadata": {},
   "source": [
    "## <font color = \"green\">Down Scaling the Image</font>"
   ]
  },
  {
   "cell_type": "code",
   "execution_count": 2,
   "id": "cf47a025",
   "metadata": {},
   "outputs": [],
   "source": [
    "cam = cv.VideoCapture(0)\n",
    "\n",
    "while True:\n",
    "    _,img = cam.read()\n",
    "    \n",
    "    img = cv.flip(img, 1)\n",
    "    resized_1 = cv.resize(img,(int(img.shape[1]/2), int(img.shape[0]/2)))\n",
    "    resized_2 = cv.resize(img,(int(img.shape[1]/4), int(img.shape[0]/4)))\n",
    "    resized_3 = cv.resize(img,(int(img.shape[1]/8), int(img.shape[0]/8)))\n",
    "    \n",
    "    cv.imshow(\"Original\",img)\n",
    "    cv.imshow(\"Resized-1\",resized_1)\n",
    "    cv.imshow(\"Resized-2\",resized_2)\n",
    "    cv.imshow(\"Resized-3\",resized_3)\n",
    "    \n",
    "    if cv.waitKey(20) == 13:\n",
    "        cam.release()\n",
    "        break"
   ]
  },
  {
   "cell_type": "markdown",
   "id": "b10cefb8",
   "metadata": {},
   "source": [
    "## <font color = \"green\">Down Scaling and Up Scaling the Image</font>"
   ]
  },
  {
   "cell_type": "code",
   "execution_count": 4,
   "id": "42d80ed8",
   "metadata": {},
   "outputs": [],
   "source": [
    "cam = cv.VideoCapture(0)\n",
    "\n",
    "while True:\n",
    "    _,img = cam.read()\n",
    "    \n",
    "    img = cv.flip(img, 1)\n",
    "    resized = cv.resize(img,(int(img.shape[1]/4), int(img.shape[0]/4)))\n",
    "    upscaled = cv.resize(resized,(int(resized.shape[1]*4), int(resized.shape[0]*4)))\n",
    "    \n",
    "    cv.imshow(\"Original\",img)\n",
    "    cv.imshow(\"Resized\",resized)\n",
    "    cv.imshow(\"Upscaled\",upscaled)\n",
    "    \n",
    "    \n",
    "    if cv.waitKey(20) == 13:\n",
    "        cam.release()\n",
    "        break"
   ]
  },
  {
   "cell_type": "code",
   "execution_count": null,
   "id": "1b4a7bf8",
   "metadata": {},
   "outputs": [],
   "source": []
  }
 ],
 "metadata": {
  "kernelspec": {
   "display_name": "Python 3 (ipykernel)",
   "language": "python",
   "name": "python3"
  },
  "language_info": {
   "codemirror_mode": {
    "name": "ipython",
    "version": 3
   },
   "file_extension": ".py",
   "mimetype": "text/x-python",
   "name": "python",
   "nbconvert_exporter": "python",
   "pygments_lexer": "ipython3",
   "version": "3.11.4"
  }
 },
 "nbformat": 4,
 "nbformat_minor": 5
}
