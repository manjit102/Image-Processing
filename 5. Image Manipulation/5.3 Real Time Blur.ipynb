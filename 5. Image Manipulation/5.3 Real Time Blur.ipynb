{
 "cells": [
  {
   "cell_type": "markdown",
   "id": "1f37d615",
   "metadata": {},
   "source": [
    "# <font color = \"red\">Real Time Blur</font>"
   ]
  },
  {
   "cell_type": "markdown",
   "id": "8d93acbc",
   "metadata": {},
   "source": [
    "## <font color = \"orange\">Importing Libraries</font>"
   ]
  },
  {
   "cell_type": "code",
   "execution_count": 2,
   "id": "d51ede99",
   "metadata": {},
   "outputs": [],
   "source": [
    "import numpy as np\n",
    "import cv2 as cv\n",
    "import matplotlib.pyplot as plt"
   ]
  },
  {
   "cell_type": "markdown",
   "id": "fbb091bf",
   "metadata": {},
   "source": [
    "## <font color = \"orange\">Real Time Blur</font>"
   ]
  },
  {
   "cell_type": "code",
   "execution_count": 3,
   "id": "5fb622a0",
   "metadata": {},
   "outputs": [],
   "source": [
    "cam = cv.VideoCapture(0)\n",
    "\n",
    "while True:\n",
    "    _, img = cam.read()\n",
    "    \n",
    "    img = cv.flip(img, 1)\n",
    "    blur_1 = cv.blur(img, (2,2))\n",
    "    blur_2 = cv.blur(img, (4,4))\n",
    "    blur_3 = cv.blur(img, (6,6))\n",
    "    blur_4 = cv.blur(img, (8,8))\n",
    "    blur_5 = cv.blur(img, (10,10))\n",
    "    blur_6 = cv.blur(img, (12,12))\n",
    "    blur_7 = cv.blur(img, (14,14))\n",
    "    \n",
    "    cv.imshow(\"Frame\",img)\n",
    "    cv.imshow(\"Blur-1\",blur_1)\n",
    "    cv.imshow(\"Blur-2\",blur_2)\n",
    "    cv.imshow(\"Blur-3\",blur_3)\n",
    "    cv.imshow(\"Blur-4\",blur_4)\n",
    "    cv.imshow(\"Blur-5\",blur_5)\n",
    "    cv.imshow(\"Blur-6\",blur_6)\n",
    "    cv.imshow(\"Blur-7\",blur_7)\n",
    "    \n",
    "    if cv.waitKey(20) == 13:\n",
    "        cam.release()\n",
    "        break"
   ]
  },
  {
   "cell_type": "code",
   "execution_count": null,
   "id": "d06cad32",
   "metadata": {},
   "outputs": [],
   "source": []
  }
 ],
 "metadata": {
  "kernelspec": {
   "display_name": "Python 3 (ipykernel)",
   "language": "python",
   "name": "python3"
  },
  "language_info": {
   "codemirror_mode": {
    "name": "ipython",
    "version": 3
   },
   "file_extension": ".py",
   "mimetype": "text/x-python",
   "name": "python",
   "nbconvert_exporter": "python",
   "pygments_lexer": "ipython3",
   "version": "3.11.4"
  }
 },
 "nbformat": 4,
 "nbformat_minor": 5
}
