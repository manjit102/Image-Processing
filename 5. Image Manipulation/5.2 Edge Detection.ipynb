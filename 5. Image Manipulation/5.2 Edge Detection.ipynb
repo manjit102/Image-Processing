{
 "cells": [
  {
   "cell_type": "markdown",
   "id": "b05cde72",
   "metadata": {},
   "source": [
    "# <font color = \"red\">Edge Detection</font>"
   ]
  },
  {
   "cell_type": "markdown",
   "id": "a64aa8f9",
   "metadata": {},
   "source": [
    "## <font color = \"magenta\">Importing Libraries</font>"
   ]
  },
  {
   "cell_type": "code",
   "execution_count": 1,
   "id": "794f392f",
   "metadata": {},
   "outputs": [],
   "source": [
    "import numpy as np\n",
    "import cv2 as cv\n",
    "import matplotlib.pyplot as plt"
   ]
  },
  {
   "cell_type": "markdown",
   "id": "e9164313",
   "metadata": {},
   "source": [
    "## <font color = \"magenta\">Detecting Edge</font>"
   ]
  },
  {
   "cell_type": "code",
   "execution_count": 4,
   "id": "86cc6dcc",
   "metadata": {},
   "outputs": [],
   "source": [
    "cam = cv.VideoCapture(0)\n",
    "\n",
    "while True:\n",
    "\n",
    "    _, img = cam.read()\n",
    "    img = cv.flip(img, 1)\n",
    "    \n",
    "    edge_1 = cv.Canny(img, 0,100)\n",
    "    edge_2 = cv.Canny(img, 50,150)\n",
    "    edge_3 = cv.Canny(img, 100,200)\n",
    "    edge_4 = cv.Canny(img, 150,250)\n",
    "    edge_5 = cv.Canny(img, 200,300)\n",
    "    \n",
    "    cv.imshow(\"Frame\", img)\n",
    "    cv.imshow(\"Edge-1\", edge_1)\n",
    "    cv.imshow(\"Edge-2\", edge_2)\n",
    "    cv.imshow(\"Edge-3\", edge_3)\n",
    "    cv.imshow(\"Edge-4\", edge_4)\n",
    "    cv.imshow(\"Edge-5\", edge_5)\n",
    "    \n",
    "    if cv.waitKey(20) == 13:\n",
    "        cam.release()\n",
    "        break"
   ]
  },
  {
   "cell_type": "code",
   "execution_count": null,
   "id": "ed1053e4",
   "metadata": {},
   "outputs": [],
   "source": []
  }
 ],
 "metadata": {
  "kernelspec": {
   "display_name": "Python 3 (ipykernel)",
   "language": "python",
   "name": "python3"
  },
  "language_info": {
   "codemirror_mode": {
    "name": "ipython",
    "version": 3
   },
   "file_extension": ".py",
   "mimetype": "text/x-python",
   "name": "python",
   "nbconvert_exporter": "python",
   "pygments_lexer": "ipython3",
   "version": "3.11.4"
  }
 },
 "nbformat": 4,
 "nbformat_minor": 5
}
