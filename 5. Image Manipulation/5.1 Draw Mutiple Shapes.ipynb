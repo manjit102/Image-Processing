{
 "cells": [
  {
   "cell_type": "markdown",
   "id": "9690478e",
   "metadata": {},
   "source": [
    "# <font color = \"red\">Drawing Multiple Shapes</font>"
   ]
  },
  {
   "cell_type": "markdown",
   "id": "54ac0da2",
   "metadata": {},
   "source": [
    "## <font color = \"magenta\">Importing Libraries</font>"
   ]
  },
  {
   "cell_type": "code",
   "execution_count": 1,
   "id": "5b709f6a",
   "metadata": {},
   "outputs": [],
   "source": [
    "import numpy as np\n",
    "import cv2 as cv\n",
    "import matplotlib.pyplot as plt"
   ]
  },
  {
   "cell_type": "markdown",
   "id": "ce6af6b0",
   "metadata": {},
   "source": [
    "## <font color = \"magenta\">Drawing Rectangle</font>"
   ]
  },
  {
   "cell_type": "code",
   "execution_count": 2,
   "id": "dd4f2ac0",
   "metadata": {},
   "outputs": [],
   "source": [
    "cam = cv.VideoCapture(0)\n",
    "\n",
    "while True:\n",
    "    \n",
    "    _, img = cam.read()\n",
    "    img = cv.flip(img,1)\n",
    "    \n",
    "    img = cv.rectangle(img, (200,80),(380,320),(0,0,255),4)\n",
    "    img = cv.rectangle(img, (195,75),(385,325),(0,255,0),4)\n",
    "    img = cv.rectangle(img, (190,70),(390,330),(255,0,0),3)\n",
    "    \n",
    "    cv.imshow(\"Frame\", img)\n",
    "    \n",
    "    key = cv.waitKey(15)\n",
    "    \n",
    "    if (key == 13):\n",
    "        cam.release()\n",
    "        break"
   ]
  },
  {
   "cell_type": "markdown",
   "id": "92a15fb3",
   "metadata": {},
   "source": [
    "## <font color = \"magenta\">Drawing Circle</font>"
   ]
  },
  {
   "cell_type": "code",
   "execution_count": 8,
   "id": "0f15bc90",
   "metadata": {},
   "outputs": [],
   "source": [
    "cam = cv.VideoCapture(0)\n",
    "\n",
    "while True:\n",
    "    \n",
    "    _, img = cam.read()\n",
    "    img = cv.flip(img,1)\n",
    "    \n",
    "#    img = cv.circle(img, (290,250),105,(0,0,255),3)\n",
    "#    img = cv.circle(img, (290,250),108,(0,255,0),3)\n",
    "#    img = cv.circle(img, (290,250),111,(255,0,0),3)\n",
    "    img = cv.circle(img, (320,240),300,(0,255,0),200)\n",
    "    \n",
    "    cv.imshow(\"Frame\", img)\n",
    "    \n",
    "    key = cv.waitKey(15)\n",
    "    \n",
    "    if (key == 13):\n",
    "        cam.release()\n",
    "        break"
   ]
  },
  {
   "cell_type": "markdown",
   "id": "040ca507",
   "metadata": {},
   "source": [
    "## <font color = \"magenta\">Writing Text</font>"
   ]
  },
  {
   "cell_type": "code",
   "execution_count": 12,
   "id": "590534a6",
   "metadata": {},
   "outputs": [],
   "source": [
    "cam = cv.VideoCapture(0)\n",
    "\n",
    "while True:\n",
    "    \n",
    "    _, img = cam.read()\n",
    "    img = cv.flip(img,1)\n",
    "    \n",
    "    img = cv.putText(img,\"JaiMaaBharti\", (25,70), cv.FONT_ITALIC, 2, (155,255,102), 2)\n",
    "    \n",
    "    cv.imshow(\"Frame\", img)\n",
    "    \n",
    "    key = cv.waitKey(15)\n",
    "    \n",
    "    if (key == 13):\n",
    "        cam.release()\n",
    "        break"
   ]
  },
  {
   "cell_type": "code",
   "execution_count": null,
   "id": "8cefff14",
   "metadata": {},
   "outputs": [],
   "source": []
  }
 ],
 "metadata": {
  "kernelspec": {
   "display_name": "Python 3 (ipykernel)",
   "language": "python",
   "name": "python3"
  },
  "language_info": {
   "codemirror_mode": {
    "name": "ipython",
    "version": 3
   },
   "file_extension": ".py",
   "mimetype": "text/x-python",
   "name": "python",
   "nbconvert_exporter": "python",
   "pygments_lexer": "ipython3",
   "version": "3.11.4"
  }
 },
 "nbformat": 4,
 "nbformat_minor": 5
}
