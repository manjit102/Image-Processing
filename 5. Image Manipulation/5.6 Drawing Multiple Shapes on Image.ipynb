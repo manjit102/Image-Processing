{
 "cells": [
  {
   "cell_type": "markdown",
   "id": "c3d31f5b",
   "metadata": {},
   "source": [
    "# <font color = \"red\">Drawing Multiple Shapes on Image</font>"
   ]
  },
  {
   "cell_type": "code",
   "execution_count": 1,
   "id": "317a14c3",
   "metadata": {},
   "outputs": [],
   "source": [
    "import numpy as np\n",
    "import cv2 as cv"
   ]
  },
  {
   "cell_type": "code",
   "execution_count": 2,
   "id": "6a201d58",
   "metadata": {},
   "outputs": [],
   "source": [
    "# creating black image\n",
    "img = np.zeros((400,400,3), dtype=\"uint8\")\n",
    "cv.imshow(\"Frame\", img)\n",
    "cv.waitKey(0)\n",
    "cv.destroyAllWindows()"
   ]
  },
  {
   "cell_type": "code",
   "execution_count": 8,
   "id": "c6380c32",
   "metadata": {},
   "outputs": [],
   "source": [
    "# Drawing Line on black image\n",
    "img = np.zeros((400,400,3), dtype=\"uint8\")\n",
    "\n",
    "cv.line(img,(10,100),(300,100), (0,0,205),5)\n",
    "cv.imshow(\"Frame\", img)\n",
    "cv.waitKey(0)\n",
    "cv.destroyAllWindows()"
   ]
  },
  {
   "cell_type": "code",
   "execution_count": 16,
   "id": "be9d647b",
   "metadata": {},
   "outputs": [],
   "source": [
    "# Writing Text on the black image\n",
    "img = np.zeros((400,400,3), dtype=\"uint8\")\n",
    "\n",
    "font = cv.FONT_HERSHEY_SIMPLEX\n",
    "cv.putText(img, \"JaiMaaBharti\",(100,100),font,1, (0,205,12),3)\n",
    "cv.imshow(\"Frame\", img)\n",
    "cv.waitKey(0)\n",
    "cv.destroyAllWindows()"
   ]
  }
 ],
 "metadata": {
  "kernelspec": {
   "display_name": "Python 3 (ipykernel)",
   "language": "python",
   "name": "python3"
  },
  "language_info": {
   "codemirror_mode": {
    "name": "ipython",
    "version": 3
   },
   "file_extension": ".py",
   "mimetype": "text/x-python",
   "name": "python",
   "nbconvert_exporter": "python",
   "pygments_lexer": "ipython3",
   "version": "3.11.5"
  }
 },
 "nbformat": 4,
 "nbformat_minor": 5
}
