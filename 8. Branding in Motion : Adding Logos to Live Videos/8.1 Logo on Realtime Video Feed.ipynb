{
 "cells": [
  {
   "cell_type": "markdown",
   "id": "6f188130",
   "metadata": {},
   "source": [
    "# <font color = \"red\">Logo on Realtime Video Feed</font>"
   ]
  },
  {
   "cell_type": "code",
   "execution_count": 1,
   "id": "37f71af8",
   "metadata": {},
   "outputs": [],
   "source": [
    "import cv2 as cv\n",
    "import numpy as np"
   ]
  },
  {
   "cell_type": "markdown",
   "id": "181312c4",
   "metadata": {},
   "source": [
    "# <font color = \"red\">Logo on Top Right Corner of Realtime Video Feed</font>"
   ]
  },
  {
   "cell_type": "code",
   "execution_count": null,
   "id": "d3fc074c",
   "metadata": {},
   "outputs": [],
   "source": [
    "cam =cv.VideoCapture(0)\n",
    "logo = cv.imread(\"JaiMaaBharti.jpg\")\n",
    "logo = cv.resize(logo, (50,50))\n",
    "\n",
    "while True:\n",
    "    _, img = cam.read()\n",
    "    img = cv.flip(img,1)\n",
    "    \n",
    "    img[10:60,580:630]=logo\n",
    "    \n",
    "    cv.imshow(\"Frame\", img)\n",
    "    \n",
    "    if cv.waitKey(12) == 13:\n",
    "        cam.release()\n",
    "        break\n",
    "cv.destroyAllWindows()"
   ]
  },
  {
   "cell_type": "markdown",
   "id": "33703598",
   "metadata": {},
   "source": [
    "# <font color = \"red\">Logo on Top Left Corner of Realtime Video Feed</font>"
   ]
  },
  {
   "cell_type": "code",
   "execution_count": 18,
   "id": "a93182fd",
   "metadata": {},
   "outputs": [],
   "source": [
    "cam =cv.VideoCapture(0)\n",
    "logo = cv.imread(\"JaiMaaBharti.jpg\")\n",
    "logo = cv.resize(logo, (50,50))\n",
    "\n",
    "while True:\n",
    "    _, img = cam.read()\n",
    "    img = cv.flip(img,1)\n",
    "    \n",
    "    img[10:60,10:60]=logo\n",
    "    \n",
    "    cv.imshow(\"Frame\", img)\n",
    "    \n",
    "    if cv.waitKey(12) == 13:\n",
    "        cam.release()\n",
    "        break\n",
    "cv.destroyAllWindows()"
   ]
  },
  {
   "cell_type": "markdown",
   "id": "8e181e68",
   "metadata": {},
   "source": [
    "# <font color = \"red\">Logo on Bottom Right Corner of Realtime Video Feed</font>"
   ]
  },
  {
   "cell_type": "code",
   "execution_count": 19,
   "id": "c1ab7d13",
   "metadata": {},
   "outputs": [],
   "source": [
    "cam =cv.VideoCapture(0)\n",
    "logo = cv.imread(\"JaiMaaBharti.jpg\")\n",
    "logo = cv.resize(logo, (50,50))\n",
    "\n",
    "while True:\n",
    "    _, img = cam.read()\n",
    "    img = cv.flip(img,1)\n",
    "    \n",
    "    img[420:470,580:630]=logo\n",
    "    \n",
    "    cv.imshow(\"Frame\", img)\n",
    "    \n",
    "    if cv.waitKey(12) == 13:\n",
    "        cam.release()\n",
    "        break\n",
    "cv.destroyAllWindows()"
   ]
  },
  {
   "cell_type": "markdown",
   "id": "f6b30484",
   "metadata": {},
   "source": [
    "# <font color = \"red\">Logo on Bottom Left Corner of Realtime Video Feed</font>"
   ]
  },
  {
   "cell_type": "code",
   "execution_count": 20,
   "id": "945eccac",
   "metadata": {},
   "outputs": [],
   "source": [
    "cam =cv.VideoCapture(0)\n",
    "logo = cv.imread(\"JaiMaaBharti.jpg\")\n",
    "logo = cv.resize(logo, (50,50))\n",
    "\n",
    "while True:\n",
    "    _, img = cam.read()\n",
    "    img = cv.flip(img,1)\n",
    "    \n",
    "    img[420:470,10:60]=logo\n",
    "    \n",
    "    cv.imshow(\"Frame\", img)\n",
    "    \n",
    "    if cv.waitKey(12) == 13:\n",
    "        cam.release()\n",
    "        break\n",
    "cv.destroyAllWindows()"
   ]
  },
  {
   "cell_type": "markdown",
   "id": "6c93ccc6",
   "metadata": {},
   "source": [
    "# <font color = \"red\">Logo on All Corner of Realtime Video Feed</font>"
   ]
  },
  {
   "cell_type": "code",
   "execution_count": 21,
   "id": "2ad6c8d9",
   "metadata": {},
   "outputs": [],
   "source": [
    "cam =cv.VideoCapture(0)\n",
    "logo = cv.imread(\"JaiMaaBharti.jpg\")\n",
    "logo = cv.resize(logo, (50,50))\n",
    "\n",
    "while True:\n",
    "    _, img = cam.read()\n",
    "    img = cv.flip(img,1)\n",
    "    \n",
    "    img[420:470,10:60]=logo          #bottom left\n",
    "    img[420:470,580:630]=logo        #bottom right\n",
    "    img[10:60,580:630]=logo          #top right\n",
    "    img[10:60,10:60]=logo            #top left\n",
    "    \n",
    "    cv.imshow(\"Frame\", img)\n",
    "    \n",
    "    if cv.waitKey(12) == 13:\n",
    "        cam.release()\n",
    "        break\n",
    "cv.destroyAllWindows()"
   ]
  },
  {
   "cell_type": "code",
   "execution_count": null,
   "id": "87bb2e86",
   "metadata": {},
   "outputs": [],
   "source": []
  }
 ],
 "metadata": {
  "kernelspec": {
   "display_name": "Python 3 (ipykernel)",
   "language": "python",
   "name": "python3"
  },
  "language_info": {
   "codemirror_mode": {
    "name": "ipython",
    "version": 3
   },
   "file_extension": ".py",
   "mimetype": "text/x-python",
   "name": "python",
   "nbconvert_exporter": "python",
   "pygments_lexer": "ipython3",
   "version": "3.11.5"
  }
 },
 "nbformat": 4,
 "nbformat_minor": 5
}
