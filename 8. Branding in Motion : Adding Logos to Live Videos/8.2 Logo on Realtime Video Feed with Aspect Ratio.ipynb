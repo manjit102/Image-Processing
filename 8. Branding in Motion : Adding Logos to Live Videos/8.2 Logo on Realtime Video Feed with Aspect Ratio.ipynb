{
 "cells": [
  {
   "cell_type": "markdown",
   "id": "3be41a75",
   "metadata": {},
   "source": [
    "# <font color = \"red\">Logo on Realtime Video Feed with Aspect Ratio</font>"
   ]
  },
  {
   "cell_type": "code",
   "execution_count": 1,
   "id": "84a6c013",
   "metadata": {},
   "outputs": [],
   "source": [
    "import cv2 as cv\n",
    "import numpy as np"
   ]
  },
  {
   "cell_type": "markdown",
   "id": "9176f4f0",
   "metadata": {},
   "source": [
    "# <font color = \"red\">Top Right Corner</font>"
   ]
  },
  {
   "cell_type": "code",
   "execution_count": 26,
   "id": "a6734d90",
   "metadata": {},
   "outputs": [],
   "source": [
    "cam = cv.VideoCapture(0)\n",
    "logo = cv.imread(\"JaiMaaBharti.jpg\")\n",
    "\n",
    "while True:\n",
    "    _, img = cam.read()\n",
    "    img = cv.flip(img,1)\n",
    "    \n",
    "    ht = img.shape[0]\n",
    "    wt = img.shape[1]\n",
    "    \n",
    "    margin_top  = int((ht/100)*1.5)         # 1.5%\n",
    "    logo_height = int((ht/100)*10.5)        # 10.5%\n",
    "\n",
    "    margin_width =int((wt/100)*91.1)         # 91.1%\n",
    "    logo_width   = int((wt/100)*8)          # 8%\n",
    "    \n",
    "    logo = cv.resize(logo, (logo_height,logo_height))\n",
    "    \n",
    "    img[ margin_top : margin_top + logo_height , margin_width : margin_width + logo_height ] = logo    # Top Right Corner\n",
    "    \n",
    "    cv.imshow(\"Frame\", img)\n",
    "    \n",
    "    if cv.waitKey(1) == 13:\n",
    "        cam.release()\n",
    "        break\n",
    "        \n",
    "cv.destroyAllWindows()"
   ]
  },
  {
   "cell_type": "markdown",
   "id": "71edc8d0",
   "metadata": {},
   "source": [
    "# <font color = \"red\">Top Left Corner</font>"
   ]
  },
  {
   "cell_type": "code",
   "execution_count": 27,
   "id": "83a6fa6e",
   "metadata": {},
   "outputs": [],
   "source": [
    "cam = cv.VideoCapture(0)\n",
    "logo = cv.imread(\"JaiMaaBharti.jpg\")\n",
    "\n",
    "while True:\n",
    "    _, img = cam.read()\n",
    "    img = cv.flip(img,1)\n",
    "    \n",
    "    ht = img.shape[0]\n",
    "    wt = img.shape[1]\n",
    "    \n",
    "    # Top Left Corner\n",
    "    margin_top  = int((ht/100)*1.5)         # 1.5%\n",
    "    logo_height = int((ht/100)*10.5)        # 10.5%\n",
    "    margin_width =int((wt/100)*1.1)         # 1.1%\n",
    "    logo_width   = int((wt/100)*8)          # 8%\n",
    "    \n",
    "    logo = cv.resize(logo, (logo_height,logo_height))\n",
    "    img[ margin_top : margin_top + logo_height , margin_width : margin_width + logo_height ] = logo    \n",
    "    \n",
    "    cv.imshow(\"Frame\", img)\n",
    "    \n",
    "    if cv.waitKey(1) == 13:\n",
    "        cam.release()\n",
    "        break\n",
    "        \n",
    "cv.destroyAllWindows()"
   ]
  },
  {
   "cell_type": "markdown",
   "id": "491a0096",
   "metadata": {},
   "source": [
    "# <font color = \"red\">Bottom Left Corner</font>"
   ]
  },
  {
   "cell_type": "code",
   "execution_count": 32,
   "id": "40a6a475",
   "metadata": {},
   "outputs": [],
   "source": [
    "cam = cv.VideoCapture(0)\n",
    "logo = cv.imread(\"JaiMaaBharti.jpg\")\n",
    "\n",
    "while True:\n",
    "    _, img = cam.read()\n",
    "    img = cv.flip(img,1)\n",
    "    \n",
    "    ht = img.shape[0]\n",
    "    wt = img.shape[1]\n",
    "    \n",
    "    # Bottom Left Corner\n",
    "    margin_top  = int((ht/100)*88.2)         # 88.2%\n",
    "    logo_height = int((ht/100)*10.5)        # 10.5%\n",
    "    margin_width =int((wt/100)*1.1)         # 1.1%\n",
    "    logo_width   = int((wt/100)*8)          # 8%\n",
    "    \n",
    "    logo = cv.resize(logo, (logo_height,logo_height))\n",
    "    img[ margin_top : margin_top + logo_height , margin_width : margin_width + logo_height ] = logo    \n",
    "    \n",
    "    cv.imshow(\"Frame\", img)\n",
    "    \n",
    "    if cv.waitKey(1) == 13:\n",
    "        cam.release()\n",
    "        break\n",
    "        \n",
    "cv.destroyAllWindows()"
   ]
  },
  {
   "cell_type": "markdown",
   "id": "4620a11d",
   "metadata": {},
   "source": [
    "# <font color = \"red\">Bottom Right Corner</font>"
   ]
  },
  {
   "cell_type": "code",
   "execution_count": 33,
   "id": "daf611f5",
   "metadata": {},
   "outputs": [],
   "source": [
    "cam = cv.VideoCapture(0)\n",
    "logo = cv.imread(\"JaiMaaBharti.jpg\")\n",
    "\n",
    "while True:\n",
    "    _, img = cam.read()\n",
    "    img = cv.flip(img,1)\n",
    "    \n",
    "    ht = img.shape[0]\n",
    "    wt = img.shape[1]\n",
    "    \n",
    "    # Bottom Right Corner\n",
    "    margin_top  = int((ht/100)*88.2)         # 88.2%\n",
    "    logo_height = int((ht/100)*10.5)        # 10.5%\n",
    "    margin_width =int((wt/100)*91.1)         # 91.1%\n",
    "    logo_width   = int((wt/100)*8)          # 8%\n",
    "    \n",
    "    logo = cv.resize(logo, (logo_height,logo_height))\n",
    "    img[ margin_top : margin_top + logo_height , margin_width : margin_width + logo_height ] = logo    \n",
    "    \n",
    "    cv.imshow(\"Frame\", img)\n",
    "    \n",
    "    if cv.waitKey(1) == 13:\n",
    "        cam.release()\n",
    "        break\n",
    "        \n",
    "cv.destroyAllWindows()"
   ]
  },
  {
   "cell_type": "markdown",
   "id": "af899c0c",
   "metadata": {},
   "source": [
    "# <font color = \"red\">All Corner</font>"
   ]
  },
  {
   "cell_type": "code",
   "execution_count": 34,
   "id": "609cf3c0",
   "metadata": {},
   "outputs": [],
   "source": [
    "cam = cv.VideoCapture(0)\n",
    "logo = cv.imread(\"JaiMaaBharti.jpg\")\n",
    "\n",
    "while True:\n",
    "    _, img = cam.read()\n",
    "    img = cv.flip(img,1)\n",
    "    \n",
    "    ht = img.shape[0]\n",
    "    wt = img.shape[1]\n",
    "    \n",
    "    # Top Right Corner\n",
    "    margin_top  = int((ht/100)*1.5)         # 1.5%\n",
    "    logo_height = int((ht/100)*10.5)        # 10.5%\n",
    "    margin_width =int((wt/100)*91.1)         # 91.1%\n",
    "    logo_width   = int((wt/100)*8)          # 8%\n",
    "    \n",
    "    logo = cv.resize(logo, (logo_height,logo_height))\n",
    "    img[ margin_top : margin_top + logo_height , margin_width : margin_width + logo_height ] = logo  \n",
    "    \n",
    "    # Bottom Right Corner\n",
    "    margin_top  = int((ht/100)*88.2)         # 88.2%\n",
    "    logo_height = int((ht/100)*10.5)        # 10.5%\n",
    "    margin_width =int((wt/100)*91.1)         # 91.1%\n",
    "    logo_width   = int((wt/100)*8)          # 8%\n",
    "    \n",
    "    logo = cv.resize(logo, (logo_height,logo_height))\n",
    "    img[ margin_top : margin_top + logo_height , margin_width : margin_width + logo_height ] = logo\n",
    "    \n",
    "    # Bottom Left Corner\n",
    "    margin_top  = int((ht/100)*88.2)         # 88.2%\n",
    "    logo_height = int((ht/100)*10.5)        # 10.5%\n",
    "    margin_width =int((wt/100)*1.1)         # 1.1%\n",
    "    logo_width   = int((wt/100)*8)          # 8%\n",
    "    \n",
    "    logo = cv.resize(logo, (logo_height,logo_height))\n",
    "    img[ margin_top : margin_top + logo_height , margin_width : margin_width + logo_height ] = logo\n",
    "    \n",
    "    # Top Left Corner\n",
    "    margin_top  = int((ht/100)*1.5)         # 1.5%\n",
    "    logo_height = int((ht/100)*10.5)        # 10.5%\n",
    "    margin_width =int((wt/100)*1.1)         # 1.1%\n",
    "    logo_width   = int((wt/100)*8)          # 8%\n",
    "    \n",
    "    logo = cv.resize(logo, (logo_height,logo_height))\n",
    "    img[ margin_top : margin_top + logo_height , margin_width : margin_width + logo_height ] = logo\n",
    "    \n",
    "    cv.imshow(\"Frame\", img)\n",
    "    \n",
    "    if cv.waitKey(1) == 13:\n",
    "        cam.release()\n",
    "        break\n",
    "        \n",
    "cv.destroyAllWindows()"
   ]
  }
 ],
 "metadata": {
  "kernelspec": {
   "display_name": "Python 3 (ipykernel)",
   "language": "python",
   "name": "python3"
  },
  "language_info": {
   "codemirror_mode": {
    "name": "ipython",
    "version": 3
   },
   "file_extension": ".py",
   "mimetype": "text/x-python",
   "name": "python",
   "nbconvert_exporter": "python",
   "pygments_lexer": "ipython3",
   "version": "3.11.5"
  }
 },
 "nbformat": 4,
 "nbformat_minor": 5
}
