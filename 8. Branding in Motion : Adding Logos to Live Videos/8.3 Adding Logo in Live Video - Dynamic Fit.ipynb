{
 "cells": [
  {
   "cell_type": "markdown",
   "id": "1a1d3d66",
   "metadata": {},
   "source": [
    "# <font color = \"red\">Adding Logo in Live Video - Dynamic Fit</font>"
   ]
  },
  {
   "cell_type": "code",
   "execution_count": 2,
   "id": "82f698c8",
   "metadata": {},
   "outputs": [],
   "source": [
    "import cv2 as cv\n",
    "import numpy as np"
   ]
  },
  {
   "cell_type": "markdown",
   "id": "74e610d1",
   "metadata": {},
   "source": [
    "# <font color = \"red\">Cropping the Frame</font>"
   ]
  },
  {
   "cell_type": "code",
   "execution_count": 40,
   "id": "64ff27ec",
   "metadata": {},
   "outputs": [],
   "source": [
    "cam = cv.VideoCapture(0)\n",
    "\n",
    "r = 480\n",
    "\n",
    "while True:\n",
    "    logo = cv.imread(\"JaiMaaBharti.jpg\")\n",
    "\n",
    "    _, img = cam.read()\n",
    "    img = cv.flip(img,1)\n",
    "    \n",
    "    img = img[: r, :]\n",
    "    \n",
    "    ht = img.shape[0]\n",
    "    wt = img.shape[1]\n",
    "    \n",
    "    margin_top = int((ht/100)*1.5)\n",
    "    logo_height = int((ht/100)*10.5)\n",
    "    margin_left = int((wt/100)*91.1)\n",
    "    logo_width = int((wt/100)*7.9)\n",
    "    \n",
    "    side = min(logo_height, logo_width)\n",
    "    \n",
    "    logo = cv.resize(logo,(side, side))\n",
    "    img[margin_top : margin_top+side, margin_left : margin_left+side] = logo\n",
    "    \n",
    "    cv.imshow(\"Frame\", img)\n",
    "    \n",
    "    if cv.waitKey(1)==119:  # press w key\n",
    "        r += 10\n",
    "    elif cv.waitKey(1)==115:    # press s key\n",
    "        r -= 10\n",
    "    elif cv.waitKey(1)==13:     # press enter key\n",
    "        cam.release()\n",
    "        break\n",
    "        \n",
    "cv.destroyAllWindows()"
   ]
  },
  {
   "cell_type": "markdown",
   "id": "3200d39e",
   "metadata": {},
   "source": [
    "# <font color = \"red\">Resizing the Frame</font>"
   ]
  },
  {
   "cell_type": "code",
   "execution_count": 3,
   "id": "4fa79653",
   "metadata": {},
   "outputs": [],
   "source": [
    "cam = cv.VideoCapture(0)\n",
    "\n",
    "scaling_factor = 1.0\n",
    "\n",
    "while True:\n",
    "    logo = cv.imread(\"JaiMaaBharti.jpg\")\n",
    "\n",
    "    _, img = cam.read()\n",
    "    img = cv.flip(img,1)\n",
    "    \n",
    "    img = cv.resize(img,(int(img.shape[1]*scaling_factor),int(img.shape[0]*scaling_factor)))\n",
    "    \n",
    "    ht = img.shape[0]\n",
    "    wt = img.shape[1]\n",
    "    \n",
    "    margin_top = int((ht/100)*1.5)\n",
    "    logo_height = int((ht/100)*10.5)\n",
    "    margin_left = int((wt/100)*91.1)\n",
    "    logo_width = int((wt/100)*7.9)\n",
    "    \n",
    "    side = min(logo_height, logo_width)\n",
    "    \n",
    "    logo = cv.resize(logo,(side, side))\n",
    "    img[margin_top : margin_top+side, margin_left : margin_left+side] = logo\n",
    "    \n",
    "    cv.imshow(\"Frame\", img)\n",
    "    \n",
    "    if cv.waitKey(1)==119:  # press w key\n",
    "        scaling_factor += 0.1\n",
    "    elif cv.waitKey(1)==115:    # press s key\n",
    "        scaling_factor -= 0.1\n",
    "    elif cv.waitKey(1)==13:     # press enter key\n",
    "        cam.release()\n",
    "        break\n",
    "        \n",
    "cv.destroyAllWindows()"
   ]
  }
 ],
 "metadata": {
  "kernelspec": {
   "display_name": "Python 3 (ipykernel)",
   "language": "python",
   "name": "python3"
  },
  "language_info": {
   "codemirror_mode": {
    "name": "ipython",
    "version": 3
   },
   "file_extension": ".py",
   "mimetype": "text/x-python",
   "name": "python",
   "nbconvert_exporter": "python",
   "pygments_lexer": "ipython3",
   "version": "3.11.5"
  }
 },
 "nbformat": 4,
 "nbformat_minor": 5
}
