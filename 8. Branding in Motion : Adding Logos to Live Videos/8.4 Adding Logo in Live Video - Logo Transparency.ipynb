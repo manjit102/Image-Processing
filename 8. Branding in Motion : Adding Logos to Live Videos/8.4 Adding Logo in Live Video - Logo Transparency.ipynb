{
 "cells": [
  {
   "cell_type": "markdown",
   "id": "4a2bcaa0",
   "metadata": {},
   "source": [
    "# <font color = \"red\">Adding Logo in Live Video - Logo Transparency</font>"
   ]
  },
  {
   "cell_type": "code",
   "execution_count": 1,
   "id": "b60c628a",
   "metadata": {},
   "outputs": [],
   "source": [
    "import cv2 as cv\n",
    "import numpy as np"
   ]
  },
  {
   "cell_type": "code",
   "execution_count": 5,
   "id": "ff26e769",
   "metadata": {},
   "outputs": [],
   "source": [
    "cam = cv.VideoCapture(0)\n",
    "\n",
    "while True:\n",
    "    logo = cv.imread(\"JaiMaaBharti.jpg\")\n",
    "\n",
    "    _, img = cam.read()\n",
    "    img = cv.flip(img,1)\n",
    "    \n",
    "    ht = img.shape[0]\n",
    "    wt = img.shape[1]\n",
    "    \n",
    "    margin_top = int((ht/100)*1.5)\n",
    "    logo_height = int((ht/100)*10.5)\n",
    "    margin_left = int((wt/100)*91.1)\n",
    "    logo_width = int((wt/100)*7.9)\n",
    "    \n",
    "    side = min(logo_height, logo_width)\n",
    "    \n",
    "    bg = img[margin_top : margin_top+side, margin_left : margin_left+side].copy()\n",
    "    logo = cv.resize(logo,(side, side))\n",
    "    final_logo = cv.addWeighted(bg,0.3,logo,0.7,0)\n",
    "    img[margin_top : margin_top+side, margin_left : margin_left+side] = final_logo\n",
    "    \n",
    "    cv.imshow(\"Frame\", img)\n",
    "    cv.imshow(\"BG\", bg)\n",
    "    \n",
    "    if cv.waitKey(1)==13:     # press enter key\n",
    "        cam.release()\n",
    "        break\n",
    "        \n",
    "cv.destroyAllWindows()"
   ]
  }
 ],
 "metadata": {
  "kernelspec": {
   "display_name": "Python 3 (ipykernel)",
   "language": "python",
   "name": "python3"
  },
  "language_info": {
   "codemirror_mode": {
    "name": "ipython",
    "version": 3
   },
   "file_extension": ".py",
   "mimetype": "text/x-python",
   "name": "python",
   "nbconvert_exporter": "python",
   "pygments_lexer": "ipython3",
   "version": "3.11.5"
  }
 },
 "nbformat": 4,
 "nbformat_minor": 5
}
