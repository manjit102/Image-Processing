{
 "cells": [
  {
   "cell_type": "markdown",
   "id": "38bd01f2",
   "metadata": {},
   "source": [
    "# <font color = \"red\">Instagram Filters - Merging Images</font>"
   ]
  },
  {
   "cell_type": "markdown",
   "id": "ab4a6b60",
   "metadata": {},
   "source": [
    "### <font color = \"brown\">Importing Libraries</font>"
   ]
  },
  {
   "cell_type": "code",
   "execution_count": 1,
   "id": "92058cba",
   "metadata": {},
   "outputs": [],
   "source": [
    "import numpy as np\n",
    "import cv2 as cv\n",
    "import matplotlib.pyplot as plt"
   ]
  },
  {
   "cell_type": "markdown",
   "id": "5b53a71f",
   "metadata": {},
   "source": [
    "### <font color = \"brown\">Merging Two Images</font>"
   ]
  },
  {
   "cell_type": "code",
   "execution_count": 2,
   "id": "3cc4f5b0",
   "metadata": {},
   "outputs": [],
   "source": [
    "def mergeImages(foregroundPath, backgroundPath, a, b):\n",
    "    \n",
    "    img        = cv.imread(foregroundPath)\n",
    "    background = cv.imread(backgroundPath)\n",
    "    \n",
    "    background = cv.resize(background, (img.shape[1],img.shape[0]))\n",
    "    \n",
    "    final = cv.addWeighted(img, a, background, b, 0)\n",
    "    \n",
    "    cv.imshow(\"Original\",img)\n",
    "    cv.waitKey(0)\n",
    "    \n",
    "    cv.imshow(\"Merged\",final)\n",
    "    cv.waitKey(0)\n",
    "    \n",
    "    cv.imwrite(\"Final-1.png\", final)"
   ]
  },
  {
   "cell_type": "code",
   "execution_count": 6,
   "id": "f3f12418",
   "metadata": {},
   "outputs": [],
   "source": [
    "mergeImages(\"Abhay.jpeg\",\"Orange.png\",0.7,0.3)"
   ]
  },
  {
   "cell_type": "code",
   "execution_count": 14,
   "id": "305a80bc",
   "metadata": {},
   "outputs": [],
   "source": [
    "mergeImages(\"Abhay.jpeg\",\"red.png\",0.8,0.2)"
   ]
  },
  {
   "cell_type": "code",
   "execution_count": 3,
   "id": "c912b58b",
   "metadata": {},
   "outputs": [],
   "source": [
    "mergeImages(\"Abhay.jpeg\",\"b_image_4.png\",0.7,0.3)"
   ]
  },
  {
   "cell_type": "code",
   "execution_count": 12,
   "id": "ad858cae",
   "metadata": {},
   "outputs": [],
   "source": [
    "lst = []\n",
    "for i in range(1280):\n",
    "    temp = []\n",
    "    for j in range(720):\n",
    "        temp.append([0, 202, 252])\n",
    "    lst.append(temp)\n",
    "    \n",
    "lst = np.array(lst)"
   ]
  },
  {
   "cell_type": "code",
   "execution_count": 13,
   "id": "29c87d07",
   "metadata": {},
   "outputs": [
    {
     "data": {
      "text/plain": [
       "True"
      ]
     },
     "execution_count": 13,
     "metadata": {},
     "output_type": "execute_result"
    }
   ],
   "source": [
    "cv.imwrite(\"red.png\", lst)"
   ]
  },
  {
   "cell_type": "code",
   "execution_count": null,
   "id": "15a0d6fb",
   "metadata": {},
   "outputs": [],
   "source": []
  }
 ],
 "metadata": {
  "kernelspec": {
   "display_name": "Python 3 (ipykernel)",
   "language": "python",
   "name": "python3"
  },
  "language_info": {
   "codemirror_mode": {
    "name": "ipython",
    "version": 3
   },
   "file_extension": ".py",
   "mimetype": "text/x-python",
   "name": "python",
   "nbconvert_exporter": "python",
   "pygments_lexer": "ipython3",
   "version": "3.11.5"
  }
 },
 "nbformat": 4,
 "nbformat_minor": 5
}
