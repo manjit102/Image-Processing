{
 "cells": [
  {
   "cell_type": "markdown",
   "id": "11635c06",
   "metadata": {},
   "source": [
    "# <font color = \"red\">Instagram Filters - Adding Warm & Cool Tone in Images</font>"
   ]
  },
  {
   "cell_type": "markdown",
   "id": "e32fec05",
   "metadata": {},
   "source": [
    "## <font color = \"saffron\">Importing Libraries</font>"
   ]
  },
  {
   "cell_type": "code",
   "execution_count": 1,
   "id": "34f1cd79",
   "metadata": {},
   "outputs": [],
   "source": [
    "import numpy as np\n",
    "import cv2 as cv\n",
    "import matplotlib.pyplot as plt\n",
    "\n",
    "blue = [247,206,139]\n",
    "yellow = [108,222,249]"
   ]
  },
  {
   "cell_type": "markdown",
   "id": "12221278",
   "metadata": {},
   "source": [
    "## <font color = \"saffron\">Adding Tone</font>"
   ]
  },
  {
   "cell_type": "code",
   "execution_count": 2,
   "id": "f2af0459",
   "metadata": {},
   "outputs": [],
   "source": [
    "def add_tone(img_path, color, a, b):\n",
    "    img = cv.imread(img_path)\n",
    "    \n",
    "    row = img.shape[0]\n",
    "    col = img.shape[1]\n",
    "    \n",
    "    background = []\n",
    "    for i in range(row):\n",
    "        temp = []\n",
    "        for j in range(col):\n",
    "            temp.append(color)\n",
    "        background.append(temp)\n",
    "        \n",
    "    background = np.array(background)\n",
    "    background = background.astype(\"uint8\")\n",
    "    \n",
    "    merged = cv.addWeighted(img, a, background, b, 0)\n",
    "    \n",
    "    cv.imshow(\"Original Image\", img)\n",
    "    cv.waitKey(0)\n",
    "    \n",
    "    cv.imshow(\"Merged Image\", merged)\n",
    "    cv.waitKey(0)"
   ]
  },
  {
   "cell_type": "code",
   "execution_count": 11,
   "id": "58364ae3",
   "metadata": {},
   "outputs": [],
   "source": [
    "add_tone(\"Tiger.jpg\",[155,25,102], 0.8,0.2)"
   ]
  },
  {
   "cell_type": "code",
   "execution_count": 3,
   "id": "68b6043e",
   "metadata": {},
   "outputs": [],
   "source": [
    "add_tone(\"Peacock.jpg\",[155,25,102], 0.8,0.2)"
   ]
  },
  {
   "cell_type": "code",
   "execution_count": null,
   "id": "021fff54",
   "metadata": {},
   "outputs": [],
   "source": []
  }
 ],
 "metadata": {
  "kernelspec": {
   "display_name": "Python 3 (ipykernel)",
   "language": "python",
   "name": "python3"
  },
  "language_info": {
   "codemirror_mode": {
    "name": "ipython",
    "version": 3
   },
   "file_extension": ".py",
   "mimetype": "text/x-python",
   "name": "python",
   "nbconvert_exporter": "python",
   "pygments_lexer": "ipython3",
   "version": "3.11.4"
  }
 },
 "nbformat": 4,
 "nbformat_minor": 5
}
