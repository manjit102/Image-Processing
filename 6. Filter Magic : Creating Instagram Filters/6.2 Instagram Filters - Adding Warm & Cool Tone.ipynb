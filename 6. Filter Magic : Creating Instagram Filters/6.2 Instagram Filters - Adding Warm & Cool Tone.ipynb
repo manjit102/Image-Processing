{
 "cells": [
  {
   "cell_type": "markdown",
   "id": "b193d2d1",
   "metadata": {},
   "source": [
    "# <font color =\"red\">Instagram Filters - Adding Warm & Cool Tone</font>"
   ]
  },
  {
   "cell_type": "markdown",
   "id": "d73c6021",
   "metadata": {},
   "source": [
    "## <font color = \"magenta\">Importing Libraries</font>"
   ]
  },
  {
   "cell_type": "code",
   "execution_count": 20,
   "id": "435cecd8",
   "metadata": {},
   "outputs": [],
   "source": [
    "import numpy as np\n",
    "import cv2 as cv\n",
    "import matplotlib.pyplot as plt\n",
    "\n",
    "blue = [247,206,139]\n",
    "yellow = [108,222,249]"
   ]
  },
  {
   "cell_type": "markdown",
   "id": "5a94eccd",
   "metadata": {},
   "source": [
    "## <font color = \"magenta\">Creating Blue Background</font>"
   ]
  },
  {
   "cell_type": "code",
   "execution_count": 10,
   "id": "15d29149",
   "metadata": {},
   "outputs": [],
   "source": [
    "background = []\n",
    "for i in range(480):\n",
    "    temp = []\n",
    "    for j in range(640):\n",
    "        temp.append(blue)\n",
    "    background.append(temp)\n",
    "    \n",
    "background = np.array(background).astype(np.uint8)"
   ]
  },
  {
   "cell_type": "code",
   "execution_count": 11,
   "id": "9e948b37",
   "metadata": {},
   "outputs": [
    {
     "data": {
      "text/plain": [
       "(480, 640, 3)"
      ]
     },
     "execution_count": 11,
     "metadata": {},
     "output_type": "execute_result"
    }
   ],
   "source": [
    "img.shape"
   ]
  },
  {
   "cell_type": "code",
   "execution_count": 12,
   "id": "927d6c64",
   "metadata": {},
   "outputs": [
    {
     "data": {
      "text/plain": [
       "(480, 640, 3)"
      ]
     },
     "execution_count": 12,
     "metadata": {},
     "output_type": "execute_result"
    }
   ],
   "source": [
    "background.shape"
   ]
  },
  {
   "cell_type": "markdown",
   "id": "f2f395ed",
   "metadata": {},
   "source": [
    "## <font color = \"magenta\">Merging Blue Background with Live Feed</font>"
   ]
  },
  {
   "cell_type": "code",
   "execution_count": 19,
   "id": "aca9992c",
   "metadata": {},
   "outputs": [],
   "source": [
    "cam = cv.VideoCapture(0)\n",
    "\n",
    "while True:\n",
    "    _,img = cam.read()\n",
    "    \n",
    "    img = cv.flip(img, 1)\n",
    "    #img = np.array(img).astype(uint8)\n",
    "    \n",
    "    merged = cv.addWeighted(img, 0.9,background, 0.2, 0)\n",
    "    \n",
    "    cv.imshow(\"Original\",img)\n",
    "    cv.imshow(\"Merged\",merged)\n",
    "    \n",
    "    if cv.waitKey(12) == 13:\n",
    "        cam.release()\n",
    "        break"
   ]
  },
  {
   "cell_type": "code",
   "execution_count": 14,
   "id": "631dd0d2",
   "metadata": {},
   "outputs": [],
   "source": [
    "cam.release()"
   ]
  },
  {
   "cell_type": "markdown",
   "id": "e7cfe564",
   "metadata": {},
   "source": [
    "## <font color = \"magenta\">Creating Feed with Warmer Tone</font>"
   ]
  },
  {
   "cell_type": "code",
   "execution_count": 22,
   "id": "59bf066b",
   "metadata": {},
   "outputs": [],
   "source": [
    "background = []\n",
    "for i in range(480):\n",
    "    temp = []\n",
    "    for j in range(640):\n",
    "        temp.append(yellow)\n",
    "    background.append(temp)\n",
    "    \n",
    "background = np.array(background).astype(np.uint8)\n",
    "\n",
    "cam = cv.VideoCapture(0)\n",
    "\n",
    "while True:\n",
    "    _,img = cam.read()\n",
    "    \n",
    "    img = cv.flip(img, 1)\n",
    "    #img = np.array(img).astype(uint8)\n",
    "    \n",
    "    merged = cv.addWeighted(img, 0.8,background, 0.2, 0)\n",
    "    \n",
    "    cv.imshow(\"Original\",img)\n",
    "    cv.imshow(\"Merged\",merged)\n",
    "    \n",
    "    if cv.waitKey(12) == 13:\n",
    "        cam.release()\n",
    "        break"
   ]
  },
  {
   "cell_type": "markdown",
   "id": "6443f9d2",
   "metadata": {},
   "source": [
    "## <font color = \"magenta\">Creating Both Filters</font>\n"
   ]
  },
  {
   "cell_type": "code",
   "execution_count": 23,
   "id": "a8dd5ea8",
   "metadata": {},
   "outputs": [],
   "source": [
    "# Blue Background\n",
    "\n",
    "blue_background = []\n",
    "for i in range(480):\n",
    "    temp = []\n",
    "    for j in range(640):\n",
    "        temp.append(blue)\n",
    "    blue_background.append(temp)\n",
    "    \n",
    "blue_background = np.array(blue_background).astype(np.uint8)\n",
    "\n",
    "# Yellow Background\n",
    "\n",
    "yellow_background = []\n",
    "for i in range(480):\n",
    "    temp = []\n",
    "    for j in range(640):\n",
    "        temp.append(yellow)\n",
    "    yellow_background.append(temp)\n",
    "    \n",
    "yellow_background = np.array(yellow_background).astype(np.uint8)\n",
    "\n",
    "# Merging original frame with warm and cool background\n",
    "cam = cv.VideoCapture(0)\n",
    "\n",
    "while True:\n",
    "    _,img = cam.read()\n",
    "    \n",
    "    img = cv.flip(img, 1)\n",
    "    \n",
    "    merged_blue = cv.addWeighted(img, 0.8,blue_background, 0.2, 0)\n",
    "    merged_yellow = cv.addWeighted(img, 0.8,yellow_background, 0.2, 0)\n",
    "    \n",
    "    cv.imshow(\"Original\",img)\n",
    "    cv.imshow(\"Blue\",merged_blue)\n",
    "    cv.imshow(\"Yellow\",merged_yellow)\n",
    "    \n",
    "    if cv.waitKey(12) == 13:\n",
    "        cam.release()\n",
    "        break"
   ]
  },
  {
   "cell_type": "code",
   "execution_count": null,
   "id": "e1b3ecc4",
   "metadata": {},
   "outputs": [],
   "source": []
  }
 ],
 "metadata": {
  "kernelspec": {
   "display_name": "Python 3 (ipykernel)",
   "language": "python",
   "name": "python3"
  },
  "language_info": {
   "codemirror_mode": {
    "name": "ipython",
    "version": 3
   },
   "file_extension": ".py",
   "mimetype": "text/x-python",
   "name": "python",
   "nbconvert_exporter": "python",
   "pygments_lexer": "ipython3",
   "version": "3.11.4"
  }
 },
 "nbformat": 4,
 "nbformat_minor": 5
}
