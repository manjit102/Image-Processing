{
 "cells": [
  {
   "cell_type": "markdown",
   "id": "fdade2f0",
   "metadata": {},
   "source": [
    "# <font color = \"red\">Instagram Filters - Brightness Control</font>"
   ]
  },
  {
   "cell_type": "markdown",
   "id": "381a3c90",
   "metadata": {},
   "source": [
    "## <font color = \"magenta\">Importing Libraries</font>"
   ]
  },
  {
   "cell_type": "code",
   "execution_count": 5,
   "id": "2e717bcf",
   "metadata": {},
   "outputs": [],
   "source": [
    "import numpy as np\n",
    "import cv2 as cv\n",
    "import matplotlib.pyplot as plt"
   ]
  },
  {
   "cell_type": "markdown",
   "id": "f7d85565",
   "metadata": {},
   "source": [
    "## <font color = \"magenta\">Increasing Brightness</font>"
   ]
  },
  {
   "cell_type": "code",
   "execution_count": 7,
   "id": "a0a0aaff",
   "metadata": {},
   "outputs": [],
   "source": [
    "pixels = float(10)\n",
    "cam = cv.VideoCapture(0)\n",
    "\n",
    "while True:\n",
    "    _, img = cam.read()\n",
    "    \n",
    "    img = cv.flip(img, 1)\n",
    "    \n",
    "    img_1 = img + pixels\n",
    "    img_1[img_1 < 0] = 0\n",
    "    img_1[img_1 > 255] = 255\n",
    "    img_1 = img_1.astype(np.uint8)\n",
    "    \n",
    "    img_2 = img + (2*pixels)\n",
    "    img_2[img_2 < 0] = 0\n",
    "    img_2[img_2 > 255] = 255\n",
    "    img_2 = img_2.astype(np.uint8)\n",
    "    \n",
    "    img_3 = img + (3*pixels)\n",
    "    img_3[img_3 < 0] = 0\n",
    "    img_3[img_3 > 255] = 255\n",
    "    img_3 = img_3.astype(np.uint8)\n",
    "    \n",
    "    img_4 = img + (4*pixels)\n",
    "    img_4[img_4 < 0] = 0\n",
    "    img_4[img_4 > 255] = 255\n",
    "    img_4 = img_4.astype(np.uint8)\n",
    "    \n",
    "    cv.imshow(\"Original\", img)\n",
    "    cv.imshow(\"Filter-1\", img_1)\n",
    "    cv.imshow(\"Filter-2\", img_2)\n",
    "    cv.imshow(\"Filter-3\", img_3)\n",
    "    cv.imshow(\"Filter-4\", img_4)\n",
    "    \n",
    "    if cv.waitKey(12) == 13:\n",
    "        cam.release()\n",
    "        break"
   ]
  },
  {
   "cell_type": "markdown",
   "id": "6cf7c19a",
   "metadata": {},
   "source": [
    "## <font color = \"magenta\">Reducing Brightness</font>"
   ]
  },
  {
   "cell_type": "code",
   "execution_count": 8,
   "id": "2646bb58",
   "metadata": {},
   "outputs": [],
   "source": [
    "pixels = float(10)\n",
    "cam = cv.VideoCapture(0)\n",
    "\n",
    "while True:\n",
    "    _, img = cam.read()\n",
    "    \n",
    "    img = cv.flip(img, 1)\n",
    "    \n",
    "    img_1 = img - pixels\n",
    "    img_1[img_1 < 0] = 0\n",
    "    img_1[img_1 > 255] = 255\n",
    "    img_1 = img_1.astype(np.uint8)\n",
    "    \n",
    "    img_2 = img - (2*pixels)\n",
    "    img_2[img_2 < 0] = 0\n",
    "    img_2[img_2 > 255] = 255\n",
    "    img_2 = img_2.astype(np.uint8)\n",
    "    \n",
    "    img_3 = img - (3*pixels)\n",
    "    img_3[img_3 < 0] = 0\n",
    "    img_3[img_3 > 255] = 255\n",
    "    img_3 = img_3.astype(np.uint8)\n",
    "    \n",
    "    img_4 = img - (4*pixels)\n",
    "    img_4[img_4 < 0] = 0\n",
    "    img_4[img_4 > 255] = 255\n",
    "    img_4 = img_4.astype(np.uint8)\n",
    "    \n",
    "    cv.imshow(\"Original\", img)\n",
    "    cv.imshow(\"Filter-1\", img_1)\n",
    "    cv.imshow(\"Filter-2\", img_2)\n",
    "    cv.imshow(\"Filter-3\", img_3)\n",
    "    cv.imshow(\"Filter-4\", img_4)\n",
    "    \n",
    "    if cv.waitKey(12) == 13:\n",
    "        cam.release()\n",
    "        break"
   ]
  },
  {
   "cell_type": "code",
   "execution_count": null,
   "id": "384eb4ec",
   "metadata": {},
   "outputs": [],
   "source": []
  }
 ],
 "metadata": {
  "kernelspec": {
   "display_name": "Python 3 (ipykernel)",
   "language": "python",
   "name": "python3"
  },
  "language_info": {
   "codemirror_mode": {
    "name": "ipython",
    "version": 3
   },
   "file_extension": ".py",
   "mimetype": "text/x-python",
   "name": "python",
   "nbconvert_exporter": "python",
   "pygments_lexer": "ipython3",
   "version": "3.11.4"
  }
 },
 "nbformat": 4,
 "nbformat_minor": 5
}
