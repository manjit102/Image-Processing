{
 "cells": [
  {
   "cell_type": "markdown",
   "id": "f3aed05b",
   "metadata": {},
   "source": [
    "# <font color = \"red\">Display Image in OppenCv Window</font>"
   ]
  },
  {
   "cell_type": "code",
   "execution_count": 2,
   "id": "3828e690",
   "metadata": {},
   "outputs": [],
   "source": [
    "import numpy as np\n",
    "import cv2 as cv\n",
    "import matplotlib.pyplot as plt"
   ]
  },
  {
   "cell_type": "markdown",
   "id": "3ec6567a",
   "metadata": {},
   "source": [
    "# <font color = \"red\">Loading an Image using OpenCV</font>"
   ]
  },
  {
   "cell_type": "code",
   "execution_count": 3,
   "id": "9399bab8",
   "metadata": {},
   "outputs": [
    {
     "data": {
      "text/plain": [
       "13"
      ]
     },
     "execution_count": 3,
     "metadata": {},
     "output_type": "execute_result"
    }
   ],
   "source": [
    "img = cv.imread(\"rgb.jpg\")\n",
    "\n",
    "img = cv.cvtColor(img, cv.COLOR_BGR2RGB)\n",
    "\n",
    "cv.imshow(\"Image\", img)\n",
    "cv.waitKey(0)\n",
    "\n",
    "\n",
    "image = cv.imread(\"Transition.png\")\n",
    "\n",
    "image = cv.cvtColor(image, cv.COLOR_BGR2RGB)\n",
    "\n",
    "cv.imshow(\"Image\", image)\n",
    "cv.waitKey(0)"
   ]
  },
  {
   "cell_type": "code",
   "execution_count": 4,
   "id": "26fa6ccc",
   "metadata": {},
   "outputs": [],
   "source": [
    "r = img[ : , : , 0 ]\n",
    "g = img[ : , : , 1 ]\n",
    "b = img[ : , : , 2 ]"
   ]
  },
  {
   "cell_type": "code",
   "execution_count": 5,
   "id": "d6eb1a1b",
   "metadata": {},
   "outputs": [
    {
     "data": {
      "text/plain": [
       "13"
      ]
     },
     "execution_count": 5,
     "metadata": {},
     "output_type": "execute_result"
    }
   ],
   "source": [
    "cv.imshow(\"Red_rgb\", r)\n",
    "cv.waitKey(0)\n",
    "\n",
    "\n",
    "cv.imshow(\"Green_rgb\", g)\n",
    "cv.waitKey(0)\n",
    "\n",
    "\n",
    "cv.imshow(\"ReBlue_rgb\", b)\n",
    "cv.waitKey(0)"
   ]
  }
 ],
 "metadata": {
  "kernelspec": {
   "display_name": "Python 3 (ipykernel)",
   "language": "python",
   "name": "python3"
  },
  "language_info": {
   "codemirror_mode": {
    "name": "ipython",
    "version": 3
   },
   "file_extension": ".py",
   "mimetype": "text/x-python",
   "name": "python",
   "nbconvert_exporter": "python",
   "pygments_lexer": "ipython3",
   "version": "3.11.4"
  }
 },
 "nbformat": 4,
 "nbformat_minor": 5
}
