{
 "cells": [
  {
   "cell_type": "markdown",
   "id": "7d7c17b5",
   "metadata": {},
   "source": [
    "# <font color = \"red\">Colour Masking</font>"
   ]
  },
  {
   "cell_type": "markdown",
   "id": "a0dd6a03",
   "metadata": {},
   "source": [
    "### <font color = \"brown\">Importing Libraries</font>"
   ]
  },
  {
   "cell_type": "code",
   "execution_count": 1,
   "id": "48fe2ad8",
   "metadata": {},
   "outputs": [],
   "source": [
    "import cv2 as cv\n",
    "import numpy as np\n",
    "import matplotlib.pyplot as plt"
   ]
  },
  {
   "cell_type": "code",
   "execution_count": 11,
   "id": "2add955e",
   "metadata": {},
   "outputs": [],
   "source": [
    "cam = cv.VideoCapture(0)\n",
    "\n",
    "# lower = np.array([230,230,230])\n",
    "# upper = np.array([255,255,255])\n",
    "\n",
    "lower = np.array([40,40,40])\n",
    "upper = np.array([200,200,200])\n",
    "\n",
    "while True:\n",
    "    _, img  = cam.read()\n",
    "    img = cv.flip(img,1)\n",
    "    \n",
    "    mask = cv.blur(img, (4,4))\n",
    "    mask = cv.inRange(mask,lower, upper)\n",
    "    \n",
    "    cv.imshow(\"Original\", img)\n",
    "    cv.imshow(\"Mask\", mask)\n",
    "    \n",
    "    if cv.waitKey(12) == 13:\n",
    "        cam.release()\n",
    "        break\n",
    "    \n",
    "cam.release()"
   ]
  },
  {
   "cell_type": "code",
   "execution_count": null,
   "id": "8d480161",
   "metadata": {},
   "outputs": [],
   "source": []
  }
 ],
 "metadata": {
  "kernelspec": {
   "display_name": "Python 3 (ipykernel)",
   "language": "python",
   "name": "python3"
  },
  "language_info": {
   "codemirror_mode": {
    "name": "ipython",
    "version": 3
   },
   "file_extension": ".py",
   "mimetype": "text/x-python",
   "name": "python",
   "nbconvert_exporter": "python",
   "pygments_lexer": "ipython3",
   "version": "3.11.5"
  }
 },
 "nbformat": 4,
 "nbformat_minor": 5
}
