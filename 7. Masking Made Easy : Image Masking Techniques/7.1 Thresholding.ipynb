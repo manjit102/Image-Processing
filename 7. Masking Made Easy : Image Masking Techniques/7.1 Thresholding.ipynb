{
 "cells": [
  {
   "cell_type": "markdown",
   "id": "4e46bd67",
   "metadata": {},
   "source": [
    "# <font color = \"red\">Thresholding</font>"
   ]
  },
  {
   "cell_type": "markdown",
   "id": "d9c6e688",
   "metadata": {},
   "source": [
    "### <font color= \"brown\">Importing Libraries</font>"
   ]
  },
  {
   "cell_type": "code",
   "execution_count": 1,
   "id": "9c604515",
   "metadata": {},
   "outputs": [],
   "source": [
    "import cv2 as cv\n",
    "import numpy as np\n",
    "import matplotlib.pyplot as plt"
   ]
  },
  {
   "cell_type": "code",
   "execution_count": 10,
   "id": "7a905fc9",
   "metadata": {},
   "outputs": [],
   "source": [
    "cam = cv.VideoCapture(0)\n",
    "\n",
    "while True:\n",
    "    _,img = cam.read()\n",
    "    img = cv.flip(img,1)\n",
    "    \n",
    "    img = cv.resize(img, (int(640/2), int(480/2)))\n",
    "    gray = cv.cvtColor(img, cv.COLOR_BGR2GRAY)\n",
    "    \n",
    "    gray_thr_1 = gray.copy()\n",
    "    gray_thr_2 = gray.copy()\n",
    "    gray_thr_1[gray_thr_1 > 200] = 100\n",
    "    gray_thr_2[gray_thr_2 < 200] = 30\n",
    "    \n",
    "    cv.imshow(\"Frame\", img)\n",
    "    cv.imshow(\"Gray\", gray)\n",
    "    cv.imshow(\"Gray_Thr_1\", gray_thr_1)\n",
    "    cv.imshow(\"Gray_Thr_2\", gray_thr_2)\n",
    "    \n",
    "    if cv.waitKey(12) == 13:\n",
    "        cam.release()\n",
    "        break\n",
    "        "
   ]
  },
  {
   "cell_type": "code",
   "execution_count": 3,
   "id": "efbc3366",
   "metadata": {},
   "outputs": [],
   "source": [
    "cam.release()"
   ]
  },
  {
   "cell_type": "code",
   "execution_count": null,
   "id": "e0083e3a",
   "metadata": {},
   "outputs": [],
   "source": []
  }
 ],
 "metadata": {
  "kernelspec": {
   "display_name": "Python 3 (ipykernel)",
   "language": "python",
   "name": "python3"
  },
  "language_info": {
   "codemirror_mode": {
    "name": "ipython",
    "version": 3
   },
   "file_extension": ".py",
   "mimetype": "text/x-python",
   "name": "python",
   "nbconvert_exporter": "python",
   "pygments_lexer": "ipython3",
   "version": "3.11.5"
  }
 },
 "nbformat": 4,
 "nbformat_minor": 5
}
