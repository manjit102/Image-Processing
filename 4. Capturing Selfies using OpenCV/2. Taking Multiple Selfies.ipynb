{
 "cells": [
  {
   "cell_type": "markdown",
   "id": "68ab9e58",
   "metadata": {},
   "source": [
    "# <font color = \"red\"> Taking Multiple Selfies</font>"
   ]
  },
  {
   "cell_type": "code",
   "execution_count": 1,
   "id": "55398492",
   "metadata": {},
   "outputs": [],
   "source": [
    "import numpy as np\n",
    "import cv2 as cv\n",
    "import matplotlib.pyplot as plt"
   ]
  },
  {
   "cell_type": "code",
   "execution_count": 2,
   "id": "631649a3",
   "metadata": {},
   "outputs": [],
   "source": [
    "cam = cv.VideoCapture(0)\n",
    "\n",
    "c=1\n",
    "\n",
    "while True:\n",
    "    _, img = cam.read()\n",
    "    \n",
    "    img = cv.flip(img, 1)\n",
    "    cv.imshow(\"Frame\", img)\n",
    "    \n",
    "    key = cv.waitKey(30)\n",
    "    if (key == 13):\n",
    "        cv.imwrite(\"Selfies/Selfie_\"+str(c)+\".png\", img)\n",
    "        c += 1\n",
    "    if (key == 27):\n",
    "        cam.release()\n",
    "        break\n",
    "    "
   ]
  },
  {
   "cell_type": "code",
   "execution_count": null,
   "id": "fbc54ae7",
   "metadata": {},
   "outputs": [],
   "source": []
  }
 ],
 "metadata": {
  "kernelspec": {
   "display_name": "Python 3 (ipykernel)",
   "language": "python",
   "name": "python3"
  },
  "language_info": {
   "codemirror_mode": {
    "name": "ipython",
    "version": 3
   },
   "file_extension": ".py",
   "mimetype": "text/x-python",
   "name": "python",
   "nbconvert_exporter": "python",
   "pygments_lexer": "ipython3",
   "version": "3.11.4"
  }
 },
 "nbformat": 4,
 "nbformat_minor": 5
}
