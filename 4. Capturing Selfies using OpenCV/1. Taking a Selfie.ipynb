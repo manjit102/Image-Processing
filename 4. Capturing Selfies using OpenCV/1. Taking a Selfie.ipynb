{
 "cells": [
  {
   "cell_type": "markdown",
   "id": "1a4bf3f8",
   "metadata": {},
   "source": [
    "# <font color = \"red\">Taking a Selfie</font>"
   ]
  },
  {
   "cell_type": "code",
   "execution_count": 1,
   "id": "91b12685",
   "metadata": {},
   "outputs": [],
   "source": [
    "import numpy as np\n",
    "import cv2 as cv\n",
    "import matplotlib.pyplot as plt"
   ]
  },
  {
   "cell_type": "markdown",
   "id": "19d77525",
   "metadata": {},
   "source": [
    "## <font color = \"saffron\">First Selfie</font>"
   ]
  },
  {
   "cell_type": "code",
   "execution_count": 2,
   "id": "538da27e",
   "metadata": {},
   "outputs": [],
   "source": [
    "cam = cv.VideoCapture(0)\n",
    "\n",
    "while True:\n",
    "    _, img = cam.read()\n",
    "    img = cv.flip(img, 1)\n",
    "    cv.imshow(\"Frame\", img)\n",
    "    \n",
    "    key =cv.waitKey(20)\n",
    "    \n",
    "    if (key == 13):\n",
    "        cv.imwrite(\"Selfie_1.png\", img)\n",
    "        cam.release()\n",
    "        break"
   ]
  },
  {
   "cell_type": "markdown",
   "id": "0659b0bb",
   "metadata": {},
   "source": [
    "## <font color=\"saffron\">Second selfie in Gray Colour Space and HSV</font>"
   ]
  },
  {
   "cell_type": "code",
   "execution_count": 2,
   "id": "84f6b117",
   "metadata": {},
   "outputs": [],
   "source": [
    "cam = cv.VideoCapture(0)\n",
    "\n",
    "while True:\n",
    "    _, img = cam.read()\n",
    "    img = cv.flip(img, 1)\n",
    "    gray = cv.cvtColor(img, cv.COLOR_BGR2GRAY)\n",
    "    hsv = cv.cvtColor(img, cv.COLOR_BGR2HSV)\n",
    "    \n",
    "    cv.imshow(\"Frame\", img)\n",
    "    \n",
    "    key =cv.waitKey(20)\n",
    "    \n",
    "    if (key == 13):\n",
    "        cv.imwrite(\"Selfie_2.png\", img)\n",
    "        cv.imwrite(\"Selfie_2_gray.png\", gray)\n",
    "        cv.imwrite(\"Selfie_2_HSV.png\", hsv)\n",
    "        \n",
    "        cam.release()\n",
    "        break"
   ]
  },
  {
   "cell_type": "code",
   "execution_count": null,
   "id": "2f853f18",
   "metadata": {},
   "outputs": [],
   "source": []
  }
 ],
 "metadata": {
  "kernelspec": {
   "display_name": "Python 3 (ipykernel)",
   "language": "python",
   "name": "python3"
  },
  "language_info": {
   "codemirror_mode": {
    "name": "ipython",
    "version": 3
   },
   "file_extension": ".py",
   "mimetype": "text/x-python",
   "name": "python",
   "nbconvert_exporter": "python",
   "pygments_lexer": "ipython3",
   "version": "3.11.4"
  }
 },
 "nbformat": 4,
 "nbformat_minor": 5
}
