{
 "cells": [
  {
   "cell_type": "markdown",
   "id": "309c2ff8",
   "metadata": {},
   "source": [
    "# <font color = \"red\">WebCam - Crop and Flip</font>"
   ]
  },
  {
   "cell_type": "code",
   "execution_count": 1,
   "id": "9e1d5c18",
   "metadata": {},
   "outputs": [],
   "source": [
    "import numpy as np\n",
    "import cv2 as cv\n",
    "import matplotlib.pyplot as plt"
   ]
  },
  {
   "cell_type": "markdown",
   "id": "d79ab066",
   "metadata": {},
   "source": [
    "# <font color = \"red\">Flipping the Image</font>"
   ]
  },
  {
   "cell_type": "code",
   "execution_count": 5,
   "id": "13d5252c",
   "metadata": {},
   "outputs": [],
   "source": [
    "cam = cv.VideoCapture(0)\n",
    "\n",
    "while True:\n",
    "    \n",
    "    _, img = cam.read()\n",
    "    #flip = cv.flip(img, 0)   # 0 for horizontal flip, up->down, down->up\n",
    "    flip = cv.flip(img, 1)    # 1 for vertical flip left->right, right->left\n",
    "    cv.imshow(\"Frame\", img)\n",
    "    cv.imshow(\"Flipped\",flip)\n",
    "    key = cv.waitKey(30)\n",
    "    if (key == 27):\n",
    "        cam.release()\n",
    "        break"
   ]
  },
  {
   "cell_type": "markdown",
   "id": "7b9365b5",
   "metadata": {},
   "source": [
    "# <font color = \"red\">Cropping the Image</font>"
   ]
  },
  {
   "cell_type": "code",
   "execution_count": 12,
   "id": "496824ca",
   "metadata": {},
   "outputs": [],
   "source": [
    "cam = cv.VideoCapture(0)\n",
    "\n",
    "while True:\n",
    "    _, img = cam.read()\n",
    "    img = cv.flip(img,1)\n",
    "    crop_0 = img[ 100: , :340 , 0 ]\n",
    "    crop_1 = img[ 100: , :340 , 1 ]\n",
    "    crop_2 = img[ 100: , :340 , 2 ]\n",
    "    cv.imshow(\"Frame\", img)\n",
    "    cv.imshow(\"Cropped Frame_0\", crop_0)\n",
    "    cv.imshow(\"Cropped Frame_1\", crop_1)\n",
    "    cv.imshow(\"Cropped Frame_2\", crop_2)\n",
    "    \n",
    "    key = cv.waitKey(20)\n",
    "    if (key == 97):\n",
    "        cam.release()\n",
    "        break"
   ]
  }
 ],
 "metadata": {
  "kernelspec": {
   "display_name": "Python 3 (ipykernel)",
   "language": "python",
   "name": "python3"
  },
  "language_info": {
   "codemirror_mode": {
    "name": "ipython",
    "version": 3
   },
   "file_extension": ".py",
   "mimetype": "text/x-python",
   "name": "python",
   "nbconvert_exporter": "python",
   "pygments_lexer": "ipython3",
   "version": "3.11.4"
  }
 },
 "nbformat": 4,
 "nbformat_minor": 5
}
