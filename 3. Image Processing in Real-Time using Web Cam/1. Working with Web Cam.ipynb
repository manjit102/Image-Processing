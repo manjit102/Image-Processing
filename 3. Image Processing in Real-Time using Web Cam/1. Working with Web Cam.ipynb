{
 "cells": [
  {
   "cell_type": "markdown",
   "id": "5b4c12b3",
   "metadata": {},
   "source": [
    "# <font color = \"red\">Working with Web Cam</font>"
   ]
  },
  {
   "cell_type": "code",
   "execution_count": 1,
   "id": "8c5719de",
   "metadata": {},
   "outputs": [],
   "source": [
    "import numpy as np\n",
    "import cv2 as cv\n",
    "import matplotlib.pyplot as plt"
   ]
  },
  {
   "cell_type": "code",
   "execution_count": null,
   "id": "8bfaa5d8",
   "metadata": {},
   "outputs": [],
   "source": [
    "cam = cv.VideoCapture(0)  #0 because I’m using internal camera of my laptop\n",
    "while True:\n",
    "    #We used an infinite loop so that I can display video instead of images in the window\n",
    "    \n",
    "    _, img = cam.read()\n",
    "    # \"_\" is a boolean variable that returns true if the frame is available  \n",
    "    # \"img\" is an image array vector captured based on the default frames per second defined explicitly or implicitly\n",
    "    \n",
    "    cv.imshow(\"Frame\", img)\n",
    "    key = cv.waitKey(30)   #delay of 30ms\n",
    "    if (key == 27):        #27 is ASCII for esc\n",
    "        cv.release()\n",
    "        break\n",
    "            "
   ]
  },
  {
   "cell_type": "code",
   "execution_count": 3,
   "id": "cb2f428f",
   "metadata": {},
   "outputs": [],
   "source": [
    "\n",
    "\n",
    " "
   ]
  },
  {
   "cell_type": "code",
   "execution_count": null,
   "id": "20b8d54d",
   "metadata": {},
   "outputs": [],
   "source": []
  }
 ],
 "metadata": {
  "kernelspec": {
   "display_name": "Python 3 (ipykernel)",
   "language": "python",
   "name": "python3"
  },
  "language_info": {
   "codemirror_mode": {
    "name": "ipython",
    "version": 3
   },
   "file_extension": ".py",
   "mimetype": "text/x-python",
   "name": "python",
   "nbconvert_exporter": "python",
   "pygments_lexer": "ipython3",
   "version": "3.11.4"
  }
 },
 "nbformat": 4,
 "nbformat_minor": 5
}
