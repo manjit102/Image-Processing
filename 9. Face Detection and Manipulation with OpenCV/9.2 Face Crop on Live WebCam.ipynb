{
 "cells": [
  {
   "cell_type": "markdown",
   "id": "431a0550",
   "metadata": {},
   "source": [
    "# <font color = \"red\">Face Crop on Live WebCam</font>"
   ]
  },
  {
   "cell_type": "code",
   "execution_count": 1,
   "id": "9e70b0f4",
   "metadata": {},
   "outputs": [],
   "source": [
    "import cv2 as cv\n",
    "import numpy as np"
   ]
  },
  {
   "cell_type": "code",
   "execution_count": 2,
   "id": "ff7c51d5",
   "metadata": {},
   "outputs": [],
   "source": [
    "classifier = cv.CascadeClassifier(\"haarcascade_frontalface_default.xml\")\n",
    "cam = cv.VideoCapture(0)\n",
    "\n",
    "while True:\n",
    "    _, img = cam.read()\n",
    "    img = cv.flip(img, 1)\n",
    "    \n",
    "    \n",
    "    faces = classifier.detectMultiScale(img, 1.2,4)\n",
    "    for face in faces:\n",
    "        if face[-1] == faces[:, -1].max():\n",
    "            faces = [list(face)]\n",
    "    \n",
    "    for (x,y,w,h) in faces:\n",
    "        cv.rectangle(img, (x,y), (x+w, y+h), (0,198,0), 3)\n",
    "        face = img[y:y+h, x:x+w]\n",
    "        \n",
    "        \n",
    "    face = cv.resize(face, (200,200))    \n",
    "    cv.imshow(\"Frame\", img)\n",
    "    cv.imshow(\"Face\", face)\n",
    "    \n",
    "    if cv.waitKey(12) == 13:\n",
    "        cam.release()\n",
    "        break"
   ]
  },
  {
   "cell_type": "code",
   "execution_count": 3,
   "id": "5be93a77",
   "metadata": {},
   "outputs": [],
   "source": [
    "cam.release()"
   ]
  }
 ],
 "metadata": {
  "kernelspec": {
   "display_name": "Python 3 (ipykernel)",
   "language": "python",
   "name": "python3"
  },
  "language_info": {
   "codemirror_mode": {
    "name": "ipython",
    "version": 3
   },
   "file_extension": ".py",
   "mimetype": "text/x-python",
   "name": "python",
   "nbconvert_exporter": "python",
   "pygments_lexer": "ipython3",
   "version": "3.11.5"
  }
 },
 "nbformat": 4,
 "nbformat_minor": 5
}
