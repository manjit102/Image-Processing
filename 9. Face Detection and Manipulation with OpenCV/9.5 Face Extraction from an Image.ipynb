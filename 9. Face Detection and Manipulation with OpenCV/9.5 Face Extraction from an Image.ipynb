{
 "cells": [
  {
   "cell_type": "markdown",
   "id": "93f904ba",
   "metadata": {},
   "source": [
    "# <font color = \"red\">Face Extraction from an Image</font>"
   ]
  },
  {
   "cell_type": "code",
   "execution_count": 7,
   "id": "8e3745f8",
   "metadata": {},
   "outputs": [],
   "source": [
    "import os\n",
    "import cv2 as cv\n",
    "import numpy as np\n",
    "\n",
    "def save(frame, folder_name):\n",
    "    name_img = len(os.listdir(folder_name))+1\n",
    "    name_img = folder_name + \"/IMG_\" + str(name_img) + \".jpg\"\n",
    "    cv.imwrite(name_img, frame)\n",
    "\n",
    "classifier = cv.CascadeClassifier(\"haarcascade_frontalface_default.xml\")\n",
    "\n",
    "img = cv.imread(\"group.jpg\")\n",
    "cv.imshow(\"Frame\", img)\n",
    "cv.waitKey(0)\n",
    "\n",
    "faces = classifier.detectMultiScale(img, 1.2,5)\n",
    "for (x,y,w,h) in faces:\n",
    "    face = img[y:y+h,x:x+w]\n",
    "    cv.imshow(\"face\", face)\n",
    "    if cv.waitKey(0) == 13:\n",
    "        save(face, \"People\")\n",
    "    else:\n",
    "        pass\n",
    "    "
   ]
  }
 ],
 "metadata": {
  "kernelspec": {
   "display_name": "Python 3 (ipykernel)",
   "language": "python",
   "name": "python3"
  },
  "language_info": {
   "codemirror_mode": {
    "name": "ipython",
    "version": 3
   },
   "file_extension": ".py",
   "mimetype": "text/x-python",
   "name": "python",
   "nbconvert_exporter": "python",
   "pygments_lexer": "ipython3",
   "version": "3.11.5"
  }
 },
 "nbformat": 4,
 "nbformat_minor": 5
}
