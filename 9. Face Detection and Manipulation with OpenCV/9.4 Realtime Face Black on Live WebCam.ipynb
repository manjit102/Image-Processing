{
 "cells": [
  {
   "cell_type": "markdown",
   "id": "ace8b128",
   "metadata": {},
   "source": [
    "# <font color=\"red\">Realtime Face Black on Live WebCam</font>"
   ]
  },
  {
   "cell_type": "markdown",
   "id": "a304a79e",
   "metadata": {},
   "source": [
    "### Creating Square"
   ]
  },
  {
   "cell_type": "code",
   "execution_count": 39,
   "id": "b8c69786",
   "metadata": {},
   "outputs": [],
   "source": [
    "import cv2 as cv\n",
    "import numpy as np\n",
    "\n",
    "cam = cv.VideoCapture(0)\n",
    "classifier = cv.CascadeClassifier(\"haarcascade_frontalface_default.xml\")\n",
    "\n",
    "while True:\n",
    "    _, img = cam.read()\n",
    "    img = cv.flip(img, 1)\n",
    "    \n",
    "    faces = classifier.detectMultiScale(img, 1.02,5)\n",
    "    \n",
    "    for f in faces:\n",
    "        if f[-1] == max(faces[:, -1]):\n",
    "            break\n",
    "    \n",
    "    \n",
    "    x=f[0]\n",
    "    y=f[1]\n",
    "    w=f[2]\n",
    "    h=f[3]\n",
    "\n",
    "    face = img[y:y+h, x:x+w]\n",
    "    black = np.zeros(face.shape, dtype=int)\n",
    "    img[y:y+h, x:x+w] = black\n",
    "\n",
    "    \n",
    "    cv.imshow(\"Frame\", img)\n",
    "    cv.imshow(\"Face\", face)\n",
    "    \n",
    "    if cv.waitKey(12)==13:\n",
    "        cam.release()\n",
    "        break"
   ]
  },
  {
   "cell_type": "markdown",
   "id": "1a8a0f5d",
   "metadata": {},
   "source": [
    "### Creating Circle"
   ]
  },
  {
   "cell_type": "code",
   "execution_count": 43,
   "id": "b16c4264",
   "metadata": {},
   "outputs": [],
   "source": [
    "import cv2 as cv\n",
    "import numpy as np\n",
    "\n",
    "cam = cv.VideoCapture(0)\n",
    "classifier = cv.CascadeClassifier(\"haarcascade_frontalface_default.xml\")\n",
    "\n",
    "while True:\n",
    "    _, img = cam.read()\n",
    "    img = cv.flip(img, 1)\n",
    "    \n",
    "    faces = classifier.detectMultiScale(img, 1.02,5)\n",
    "    \n",
    "    for f in faces:\n",
    "        if f[-1] == max(faces[:, -1]):\n",
    "            break\n",
    "    \n",
    "    \n",
    "    x=f[0]\n",
    "    y=f[1]\n",
    "    w=f[2]\n",
    "    h=f[3]\n",
    "    \n",
    "    circle_x = x+int(w/2)\n",
    "    circle_y = y+int(h/2)\n",
    "\n",
    "    cv.circle(img, (circle_x, circle_y), int(w/1.5), (102,255,102),-1)\n",
    "    cv.imshow(\"Frame\", img)\n",
    "    \n",
    "    \n",
    "    if cv.waitKey(12)==13:\n",
    "        cam.release()\n",
    "        break"
   ]
  }
 ],
 "metadata": {
  "kernelspec": {
   "display_name": "Python 3 (ipykernel)",
   "language": "python",
   "name": "python3"
  },
  "language_info": {
   "codemirror_mode": {
    "name": "ipython",
    "version": 3
   },
   "file_extension": ".py",
   "mimetype": "text/x-python",
   "name": "python",
   "nbconvert_exporter": "python",
   "pygments_lexer": "ipython3",
   "version": "3.11.5"
  }
 },
 "nbformat": 4,
 "nbformat_minor": 5
}
