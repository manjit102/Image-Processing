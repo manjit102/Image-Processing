{
 "cells": [
  {
   "cell_type": "markdown",
   "id": "09a0785a",
   "metadata": {},
   "source": [
    "# <font color = \"red\">Face Detection on Live WebCam</font>"
   ]
  },
  {
   "cell_type": "code",
   "execution_count": 1,
   "id": "b1da0a8b",
   "metadata": {},
   "outputs": [],
   "source": [
    "import cv2 as cv\n",
    "import numpy as np"
   ]
  },
  {
   "cell_type": "code",
   "execution_count": 2,
   "id": "3837d438",
   "metadata": {},
   "outputs": [],
   "source": [
    "classifier = cv.CascadeClassifier(\"haarcascade_frontalface_default.xml\")\n",
    "camera = cv.VideoCapture(0)\n",
    "\n",
    "while True:\n",
    "    _, img = camera.read()\n",
    "    img = cv.flip(img, 1)\n",
    "    \n",
    "    try:\n",
    "        faces = classifier.detectMultiScale(img, 1.3, 2)\n",
    "        for (x,y,w,h) in faces:\n",
    "            cv.rectangle(img, (x,y), (x+w,y+h), [0,205,0], 3)\n",
    "    except:\n",
    "        pass\n",
    "    \n",
    "    cv.imshow(\"Frame\", img)\n",
    "    \n",
    "    if cv.waitKey(12) == 13:\n",
    "        camera.release()\n",
    "        break"
   ]
  },
  {
   "cell_type": "code",
   "execution_count": null,
   "id": "3dc0a0a0",
   "metadata": {},
   "outputs": [],
   "source": []
  }
 ],
 "metadata": {
  "kernelspec": {
   "display_name": "Python 3 (ipykernel)",
   "language": "python",
   "name": "python3"
  },
  "language_info": {
   "codemirror_mode": {
    "name": "ipython",
    "version": 3
   },
   "file_extension": ".py",
   "mimetype": "text/x-python",
   "name": "python",
   "nbconvert_exporter": "python",
   "pygments_lexer": "ipython3",
   "version": "3.11.5"
  }
 },
 "nbformat": 4,
 "nbformat_minor": 5
}
