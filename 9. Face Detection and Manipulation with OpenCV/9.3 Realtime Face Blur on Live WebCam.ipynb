{
 "cells": [
  {
   "cell_type": "markdown",
   "id": "26e653c0",
   "metadata": {},
   "source": [
    "# <font color = \"red\">Realtime Face Blur on Live WebCam</font>"
   ]
  },
  {
   "cell_type": "code",
   "execution_count": 2,
   "id": "1297a9ac",
   "metadata": {},
   "outputs": [],
   "source": [
    "import cv2 as cv\n",
    "import numpy as np"
   ]
  },
  {
   "cell_type": "code",
   "execution_count": 15,
   "id": "5e57896d",
   "metadata": {},
   "outputs": [],
   "source": [
    "cam = cv.VideoCapture(0)\n",
    "classifier = cv.CascadeClassifier(\"haarcascade_frontalface_default.xml\")\n",
    "\n",
    "while True:\n",
    "    _, img = cam.read()\n",
    "    img = cv.flip(img, 1)\n",
    "    \n",
    "    faces = classifier.detectMultiScale(img, 1.2, 5)\n",
    "    \n",
    "    for f in faces:\n",
    "        if f[-1] == faces[:, -1].max():\n",
    "            break\n",
    "    \n",
    "    \n",
    "    \n",
    "    if len(faces) >= 1:\n",
    "        x=f[0]\n",
    "        y=f[1]\n",
    "        w=f[2]\n",
    "        h=f[3]\n",
    "        #cv.rectangle(img, (x,y), (x+w, y+h), (0,220,0), 3)\n",
    "        face = img[y:y+h, x:x+w]\n",
    "        \n",
    "        face = cv.blur(face, (32,32))\n",
    "        img[y:y+h, x:x+w] = face\n",
    "    \n",
    "    cv.imshow(\"Frame\", img)\n",
    "    cv.imshow(\"Face\", face)\n",
    "    \n",
    "    if cv.waitKey(12) == 13:\n",
    "        cam.release()\n",
    "        break"
   ]
  },
  {
   "cell_type": "code",
   "execution_count": 8,
   "id": "ed40dea7",
   "metadata": {},
   "outputs": [],
   "source": [
    "cam.release()"
   ]
  },
  {
   "cell_type": "code",
   "execution_count": null,
   "id": "0c2c923f",
   "metadata": {},
   "outputs": [],
   "source": []
  }
 ],
 "metadata": {
  "kernelspec": {
   "display_name": "Python 3 (ipykernel)",
   "language": "python",
   "name": "python3"
  },
  "language_info": {
   "codemirror_mode": {
    "name": "ipython",
    "version": 3
   },
   "file_extension": ".py",
   "mimetype": "text/x-python",
   "name": "python",
   "nbconvert_exporter": "python",
   "pygments_lexer": "ipython3",
   "version": "3.11.5"
  }
 },
 "nbformat": 4,
 "nbformat_minor": 5
}
